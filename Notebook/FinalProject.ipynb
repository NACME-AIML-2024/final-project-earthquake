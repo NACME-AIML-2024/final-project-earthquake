{
 "cells": [
  {
   "cell_type": "code",
   "execution_count": 1,
   "metadata": {},
   "outputs": [],
   "source": [
    "#All Libraries used in the code\n",
    "import pandas as pd\n",
    "import numpy as np\n",
    "import matplotlib.pyplot as plt\n",
    "import seaborn as sns\n",
    "from sklearn import preprocessing\n",
    "from sklearn.model_selection import train_test_split\n",
    "from sklearn.linear_model import LogisticRegression"
   ]
  },
  {
   "cell_type": "code",
   "execution_count": 7,
   "metadata": {},
   "outputs": [],
   "source": [
    "#Reading the data from the csv files\n",
    "hour3 = pd.read_csv('1_6pm - 9pm.csv')\n",
    "hour6 = pd.read_csv('2_9pm - 12am.csv')\n",
    "hour9 = pd.read_csv('3_12am - 3am.csv')\n",
    "hour12 = pd.read_csv('4_3am - 6am.csv')\n",
    "hour15 = pd.read_csv('5_6am - 9am.csv')\n",
    "hour18 = pd.read_csv('6_9am - 12pm.csv')\n",
    "hour21 = pd.read_csv('7_12pm - 3pm.csv')\n",
    "hour24 = pd.read_csv('8_3pm - 6pm.csv')"
   ]
  }
 ],
 "metadata": {
  "kernelspec": {
   "display_name": "aiml-2",
   "language": "python",
   "name": "python3"
  },
  "language_info": {
   "codemirror_mode": {
    "name": "ipython",
    "version": 3
   },
   "file_extension": ".py",
   "mimetype": "text/x-python",
   "name": "python",
   "nbconvert_exporter": "python",
   "pygments_lexer": "ipython3",
   "version": "3.11.9"
  }
 },
 "nbformat": 4,
 "nbformat_minor": 2
}
