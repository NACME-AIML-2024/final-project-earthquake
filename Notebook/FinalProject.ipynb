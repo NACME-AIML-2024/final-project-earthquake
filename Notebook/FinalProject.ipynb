{
 "cells": [
  {
   "cell_type": "code",
   "execution_count": 313,
   "metadata": {},
   "outputs": [],
   "source": [
    "#All Libraries used in the code\n",
    "import pandas as pd\n",
    "import numpy as np\n",
    "import matplotlib.pyplot as plt\n",
    "import seaborn as sns\n",
    "import torch\n",
    "import torch.nn as nn\n",
    "import torch.optim as optim\n",
    "from scipy.signal import find_peaks\n",
    "from sklearn.preprocessing import MinMaxScaler\n",
    "from sklearn import preprocessing\n",
    "from sklearn.model_selection import train_test_split\n",
    "from sklearn.linear_model import LogisticRegression"
   ]
  },
  {
   "cell_type": "code",
   "execution_count": 334,
   "metadata": {},
   "outputs": [],
   "source": [
    "#Reading the data from the csv files\n",
    "hour3 = pd.read_csv('1_6pm - 9pm.csv')\n",
    "hour6 = pd.read_csv('2_9pm - 12am.csv')\n",
    "hour9 = pd.read_csv('3_12am - 3am.csv')\n",
    "hour12 = pd.read_csv('4_3am - 6am.csv')\n",
    "hour15 = pd.read_csv('5_6am - 9am.csv')\n",
    "hour18 = pd.read_csv('6_9am - 12pm.csv')\n",
    "hour21 = pd.read_csv('7_12pm - 3pm.csv')\n",
    "hour24 = pd.read_csv('8_3pm - 6pm.csv')\n",
    "\n",
    "hours = [hour3, hour6, hour9, hour12, hour15, hour18, hour21, hour24]"
   ]
  },
  {
   "cell_type": "code",
   "execution_count": 315,
   "metadata": {},
   "outputs": [],
   "source": [
    "#Cleaning the data\n",
    "for hour in hours:\n",
    "    for column in hour.columns[1:]:\n",
    "        hour[column] = pd.Series(hour[column]).dropna()\n"
   ]
  },
  {
   "cell_type": "code",
   "execution_count": 336,
   "metadata": {},
   "outputs": [],
   "source": [
    "#Auto Encoder\n",
    "class Autoencoder(nn.Module):\n",
    "    def __init__(self, input_dim, latent_dim):\n",
    "        super(Autoencoder, self).__init__()\n",
    "        # Encoder\n",
    "        self.encoder = nn.Sequential(\n",
    "            nn.Linear(input_dim, 64),\n",
    "            nn.ReLU(),\n",
    "            nn.Linear(64, 32),\n",
    "            nn.ReLU(),\n",
    "            nn.Linear(32, latent_dim)\n",
    "        )\n",
    "        # Decoder\n",
    "        self.decoder = nn.Sequential(\n",
    "            nn.Linear(latent_dim, 32),\n",
    "            nn.ReLU(),\n",
    "            nn.Linear(32, 64),\n",
    "            nn.ReLU(),\n",
    "            nn.Linear(64, input_dim),\n",
    "            nn.Sigmoid()\n",
    "        )\n",
    "    \n",
    "    def forward(self, x):\n",
    "        encoded = self.encoder(x)\n",
    "        decoded = self.decoder(encoded)\n",
    "        return decoded\n",
    "\n",
    "#Creating training AutoEncoder Loop to pull out loss values on each 3 hour period of data \n",
    "def train_autoencoder(train_data, test_data, input_dim, latent_dim, epochs=20, batch_size=16, learning_rate=0.001):\n",
    "    model = Autoencoder(input_dim=input_dim, latent_dim=latent_dim)\n",
    "    criterion = nn.MSELoss()\n",
    "    optimizer = optim.Adam(model.parameters(), lr=learning_rate)\n",
    "    \n",
    "    for epoch in range(epochs):\n",
    "        model.train()\n",
    "        permutation = torch.randperm(train_data.size()[0])\n",
    "        \n",
    "        for i in range(0, train_data.size()[0], batch_size):\n",
    "            optimizer.zero_grad()\n",
    "            indices = permutation[i:i + batch_size]\n",
    "            batch_x = train_data[indices]\n",
    "            \n",
    "            outputs = model(batch_x)\n",
    "            loss = criterion(outputs, batch_x)\n",
    "            \n",
    "            loss.backward()\n",
    "            optimizer.step()\n",
    "    \n",
    "    model.eval()\n",
    "    with torch.no_grad():\n",
    "        test_outputs = model(test_data)\n",
    "        test_loss = criterion(test_outputs, test_data)\n",
    "    \n",
    "    return test_loss.item()\n",
    "    "
   ]
  },
  {
   "cell_type": "code",
   "execution_count": 337,
   "metadata": {},
   "outputs": [],
   "source": [
    "#Function finds the optimal number of latent features to pull from data based on loss values\n",
    "def find_latent_dims(hour, latent_features_range, epochs=10, batch_size=16, learning_rate=0.001):\n",
    "    min_loss = float('inf')\n",
    "    best_latent_dim = None\n",
    "    \n",
    "    for latent_dim in latent_features_range:\n",
    "        total_loss = 0\n",
    "        \n",
    "        scaler = MinMaxScaler()\n",
    "        df_scaled = scaler.fit_transform(hour)\n",
    "        \n",
    "        train_data, test_data = train_test_split(df_scaled, train_size=0.8)\n",
    "        train_data = torch.tensor(np.array(train_data), dtype=torch.float32)\n",
    "        test_data = torch.tensor(np.array(test_data), dtype=torch.float32)\n",
    "        \n",
    "        input_dimensions = df_scaled.shape[1]\n",
    "        loss = train_autoencoder(train_data, test_data, input_dimensions, latent_dim, epochs, batch_size, learning_rate)\n",
    "        total_loss += loss\n",
    "\n",
    "        avg_loss = total_loss / len(hour)\n",
    "        \n",
    "        if avg_loss < min_loss:\n",
    "            min_loss = avg_loss\n",
    "            best_latent_dim = latent_dim\n",
    "    \n",
    "    return best_latent_dim\n",
    "\n",
    "def latent_labels(num_latent):\n",
    "    return [f'Latent{i+1}' for i in range(num_latent)]"
   ]
  },
  {
   "cell_type": "code",
   "execution_count": 338,
   "metadata": {},
   "outputs": [
    {
     "name": "stdout",
     "output_type": "stream",
     "text": [
      "Epoch [1/10], Loss: 0.0761\n",
      "Epoch [2/10], Loss: 0.0750\n",
      "Epoch [3/10], Loss: 0.0737\n",
      "Epoch [4/10], Loss: 0.0721\n",
      "Epoch [5/10], Loss: 0.0654\n",
      "Epoch [6/10], Loss: 0.0600\n",
      "Epoch [7/10], Loss: 0.0532\n",
      "Epoch [8/10], Loss: 0.0511\n",
      "Epoch [9/10], Loss: 0.0554\n",
      "Epoch [10/10], Loss: 0.0480\n",
      "Epoch [1/10], Loss: 0.0722\n",
      "Epoch [2/10], Loss: 0.0664\n",
      "Epoch [3/10], Loss: 0.0661\n",
      "Epoch [4/10], Loss: 0.0612\n",
      "Epoch [5/10], Loss: 0.0578\n",
      "Epoch [6/10], Loss: 0.0564\n",
      "Epoch [7/10], Loss: 0.0564\n",
      "Epoch [8/10], Loss: 0.0471\n",
      "Epoch [9/10], Loss: 0.0435\n",
      "Epoch [10/10], Loss: 0.0483\n",
      "Epoch [1/10], Loss: 0.0704\n",
      "Epoch [2/10], Loss: 0.0768\n",
      "Epoch [3/10], Loss: 0.0697\n",
      "Epoch [4/10], Loss: 0.0696\n",
      "Epoch [5/10], Loss: 0.0637\n",
      "Epoch [6/10], Loss: 0.0597\n",
      "Epoch [7/10], Loss: 0.0573\n",
      "Epoch [8/10], Loss: 0.0499\n",
      "Epoch [9/10], Loss: 0.0504\n",
      "Epoch [10/10], Loss: 0.0478\n",
      "Epoch [1/10], Loss: 0.0782\n",
      "Epoch [2/10], Loss: 0.0750\n",
      "Epoch [3/10], Loss: 0.0764\n",
      "Epoch [4/10], Loss: 0.0698\n",
      "Epoch [5/10], Loss: 0.0656\n",
      "Epoch [6/10], Loss: 0.0605\n",
      "Epoch [7/10], Loss: 0.0552\n",
      "Epoch [8/10], Loss: 0.0430\n",
      "Epoch [9/10], Loss: 0.0473\n",
      "Epoch [10/10], Loss: 0.0402\n",
      "Epoch [1/10], Loss: 0.0728\n",
      "Epoch [2/10], Loss: 0.0681\n",
      "Epoch [3/10], Loss: 0.0669\n",
      "Epoch [4/10], Loss: 0.0660\n",
      "Epoch [5/10], Loss: 0.0655\n",
      "Epoch [6/10], Loss: 0.0557\n",
      "Epoch [7/10], Loss: 0.0519\n",
      "Epoch [8/10], Loss: 0.0477\n",
      "Epoch [9/10], Loss: 0.0475\n",
      "Epoch [10/10], Loss: 0.0499\n",
      "Epoch [1/10], Loss: 0.0751\n",
      "Epoch [2/10], Loss: 0.0725\n",
      "Epoch [3/10], Loss: 0.0704\n",
      "Epoch [4/10], Loss: 0.0710\n",
      "Epoch [5/10], Loss: 0.0679\n",
      "Epoch [6/10], Loss: 0.0573\n",
      "Epoch [7/10], Loss: 0.0633\n",
      "Epoch [8/10], Loss: 0.0493\n",
      "Epoch [9/10], Loss: 0.0499\n",
      "Epoch [10/10], Loss: 0.0479\n",
      "Epoch [1/10], Loss: 0.0695\n",
      "Epoch [2/10], Loss: 0.0653\n",
      "Epoch [3/10], Loss: 0.0699\n",
      "Epoch [4/10], Loss: 0.0654\n",
      "Epoch [5/10], Loss: 0.0570\n",
      "Epoch [6/10], Loss: 0.0536\n",
      "Epoch [7/10], Loss: 0.0549\n",
      "Epoch [8/10], Loss: 0.0528\n",
      "Epoch [9/10], Loss: 0.0486\n",
      "Epoch [10/10], Loss: 0.0490\n",
      "Epoch [1/10], Loss: 0.1048\n",
      "Epoch [2/10], Loss: 0.0981\n",
      "Epoch [3/10], Loss: 0.0926\n",
      "Epoch [4/10], Loss: 0.0889\n",
      "Epoch [5/10], Loss: 0.0749\n",
      "Epoch [6/10], Loss: 0.0677\n",
      "Epoch [7/10], Loss: 0.0558\n",
      "Epoch [8/10], Loss: 0.0450\n",
      "Epoch [9/10], Loss: 0.0388\n",
      "Epoch [10/10], Loss: 0.0423\n"
     ]
    }
   ],
   "source": [
    "#Extracting Latent Features via AutoEncoder\n",
    "latent_features_range = range(1, 15)\n",
    "latent_features_dfs = {}\n",
    "idx = 0\n",
    "\n",
    "for idx, hour in enumerate(hours):\n",
    "    temp_hour = hour.copy().drop(columns = 'Freq_Hz')\n",
    "    scaler = MinMaxScaler()\n",
    "    df_scaled = scaler.fit_transform(temp_hour.transpose())\n",
    "    \n",
    "    train_data, test_data = train_test_split(df_scaled, train_size=0.8)\n",
    "\n",
    "    train_data = torch.tensor(np.array(train_data), dtype=torch.float32)\n",
    "    test_data = torch.tensor(np.array(test_data), dtype=torch.float32)\n",
    "\n",
    "    input_dimensions = df_scaled.shape[1]\n",
    "    latent_dimension = find_latent_dims(hour, latent_features_range)\n",
    "\n",
    "    model = Autoencoder(input_dim=input_dimensions, latent_dim=latent_dimension)\n",
    "\n",
    "    criterion = nn.MSELoss()\n",
    "    optimizer = optim.Adam(model.parameters(), lr=0.001)\n",
    "\n",
    "    epochs = 10\n",
    "    batch_size = 16\n",
    "\n",
    "    for epoch in range(epochs):\n",
    "        model.train()\n",
    "        permutation = torch.randperm(train_data.size()[0])\n",
    "            \n",
    "        for i in range(0, train_data.size()[0], batch_size):\n",
    "            optimizer.zero_grad()\n",
    "                \n",
    "            indices = permutation[i:i+batch_size]\n",
    "            batch_x = train_data[indices]\n",
    "                \n",
    "            outputs = model(batch_x)\n",
    "            loss = criterion(outputs, batch_x)\n",
    "                \n",
    "            loss.backward()\n",
    "            optimizer.step()\n",
    "            \n",
    "        print(f\"Epoch [{epoch+1}/{epochs}], Loss: {loss.item():.4f}\")\n",
    "\n",
    "    model.eval()\n",
    "    with torch.no_grad():\n",
    "        latent_features = model.encoder(torch.tensor(np.array(df_scaled), dtype=torch.float32)).numpy()\n",
    "        \n",
    "    latent_features_dfs[f'df_{idx}'] = pd.DataFrame(latent_features, columns=latent_labels(latent_dimension))\n"
   ]
  },
  {
   "cell_type": "code",
   "execution_count": 329,
   "metadata": {},
   "outputs": [
    {
     "data": {
      "image/png": "[encoded data removed]",
      "text/plain": [
       "<Figure size 640x480 with 2 Axes>"
      ]
     },
     "metadata": {},
     "output_type": "display_data"
    }
   ],
   "source": [
    "corr_matrix = latent_features_dfs['df_0'].corr()\n",
    "\n",
    "sns.heatmap(corr_matrix, cmap='coolwarm', fmt='.2f')\n",
    "plt.show()"
   ]
  },
  {
   "cell_type": "code",
   "execution_count": 340,
   "metadata": {},
   "outputs": [
    {
     "data": {
      "text/plain": [
       "Text(0.5, 1.0, 'Area under Curve vs. Latent Feature 12')"
      ]
     },
     "execution_count": 340,
     "metadata": {},
     "output_type": "execute_result"
    },
    {
     "data": {
      "image/png": "[encoded data removed]",
      "text/plain": [
       "<Figure size 640x480 with 1 Axes>"
      ]
     },
     "metadata": {},
     "output_type": "display_data"
    }
   ],
   "source": [
    "#Scatter plot example of the area under curve for every 3 min interval vs. latent features\n",
    "plt.scatter(seen_features_dfs['df_0']['area_under_curve'], latent_features_dfs['df_0']['Latent7'])\n",
    "plt.xlabel('Area under curve per 3 minute interval in hours 0-3')\n",
    "plt.ylabel('Latent Features')\n",
    "plt.title('Area under Curve vs. Latent Feature 12')"
   ]
  },
  {
   "cell_type": "code",
   "execution_count": 332,
   "metadata": {},
   "outputs": [
    {
     "name": "stdout",
     "output_type": "stream",
     "text": [
      "0     [5.718246606, 1.947899715, 1.357474738, 2.0317...\n",
      "1     [0.949955024, 1.258293177, 2.110102338, 1.8443...\n",
      "2     [1.449704476, 1.611469752, 1.83321245, 1.22388...\n",
      "3     [2.878835234, 1.633669683, 1.349114157, 1.8345...\n",
      "4     [1.22510012, 1.018626858, 1.610458546, 1.81173...\n",
      "5     [9.006051368, 2.163821602, 1.380010539, 1.7962...\n",
      "6     [0.898006129, 1.44774443, 0.99623339, 0.964265...\n",
      "7     [2.432595682, 3.413136777, 1.223040384, 2.3347...\n",
      "8     [2.549235475, 1.217035557, 1.203636311, 1.6928...\n",
      "9     [1.522607878, 2.518275753, 2.275261843, 1.4827...\n",
      "10    [1.451179756, 1.622825648, 3.859137185, 1.0440...\n",
      "11    [0.641106524, 2.874302229, 1.951238858, 0.9785...\n",
      "12    [2.340330973, 1.140734567, 1.657566513, 0.8242...\n",
      "13    [8.673364075, 1.907774983, 0.913216016, 1.6378...\n",
      "14    [1.597763279, 1.493598414, 1.134530161, 1.7759...\n",
      "15    [0.994584884, 1.318778222, 1.179772294, 1.7866...\n",
      "16    [9.690820242, 2.16389347, 1.089559388, 1.20504...\n",
      "17    [2.863975093, 0.822719226, 2.785295211, 1.6205...\n",
      "18    [2.272399336, 0.967131548, 1.427207986, 1.4178...\n",
      "19    [1.710622665, 1.188322428, 1.328214011, 1.1841...\n",
      "20    [1.611704083, 1.199715253, 1.248943087, 1.6110...\n",
      "21    [0.778254109, 0.988560849, 1.223484283, 1.1758...\n",
      "22    [3.249723759, 2.697174752, 1.921336919, 0.9113...\n",
      "23    [0.893889627, 1.64045421, 1.273539624, 1.04991...\n",
      "24    [3.694352994, 2.413448232, 1.621678868, 1.5324...\n",
      "25    [9.624615362, 2.186443243, 2.874278577, 1.3833...\n",
      "26    [1.209097656, 3.108108985, 1.938007856, 1.1792...\n",
      "27    [6.004528029, 1.170233285, 1.350268654, 0.8794...\n",
      "28    [2.656283424, 2.394853948, 0.576488772, 1.1927...\n",
      "29    [1.329502409, 2.253602045, 1.189973596, 1.0029...\n",
      "30    [3.279946153, 1.033526111, 1.221038442, 4.1689...\n",
      "31    [3.009577882, 1.299665074, 1.633621408, 1.2749...\n",
      "32    [1.811459248, 3.015660642, 1.233344256, 1.4608...\n",
      "33    [1.240443342, 2.827152647, 1.805276315, 1.1814...\n",
      "34    [1.463869234, 1.418000869, 1.285976099, 0.9218...\n",
      "35    [0.898681182, 1.721798211, 3.858744925, 0.9028...\n",
      "36    [7.883962737, 1.141472353, 1.17449899, 1.29202...\n",
      "37    [1.403351455, 0.927480611, 1.114483041, 1.5327...\n",
      "38    [1.345998022, 1.160903842, 1.186148625, 2.3398...\n",
      "39    [1.510446951, 4.457064515, 1.597014786, 3.5443...\n",
      "40    [2.979848105, 1.510172919, 1.787453261, 1.3432...\n",
      "41    [4.294260895, 0.657486218, 1.404757072, 1.2194...\n",
      "42    [0.966601591, 0.583546306, 1.395432772, 1.2789...\n",
      "43    [0.889038376, 2.60790819, 1.470964844, 1.25295...\n",
      "44    [1.737286469, 1.272463031, 0.936097699, 1.7784...\n",
      "45    [1.50417983, 1.655608712, 1.840279317, 0.93397...\n",
      "46    [2.445051864, 1.427095983, 2.704508097, 1.7669...\n",
      "47    [2.15166824, 3.195821092, 1.40347307, 2.057641...\n",
      "48    [1.55776247, 1.216470726, 1.62347782, 1.372532...\n",
      "49    [6.116076389, 1.412981142, 1.451613917, 1.0690...\n",
      "50    [1.770480986, 1.265372148, 0.861646672, 1.3699...\n",
      "51    [3.322690933, 1.886045205, 0.914741937, 1.0194...\n",
      "52    [2.625854221, 0.680393264, 1.411095753, 0.8860...\n",
      "53    [4.922418, 3.567910012, 2.458654125, 1.2619904...\n",
      "54    [3.932067917, 0.835924509, 0.672779389, 2.4436...\n",
      "55    [1.541885335, 0.583871337, 1.600004078, 1.3758...\n",
      "56    [1.666793125, 1.714129413, 0.915510449, 2.3114...\n",
      "57    [0.988590734, 13.97082393, 1.474637075, 1.3404...\n",
      "58    [1.154637935, 1.414189718, 1.445298731, 1.3798...\n",
      "59    [1.189019816, 2.102539953, 1.406573779, 1.3355...\n",
      "Name: peak_amplitudes, dtype: object\n"
     ]
    }
   ],
   "source": [
    "#printing data\n",
    "print(seen_features_dfs['df_0']['peak_amplitudes'])"
   ]
  },
  {
   "cell_type": "code",
   "execution_count": 333,
   "metadata": {},
   "outputs": [
    {
     "name": "stdout",
     "output_type": "stream",
     "text": [
      "Index(['Latent1', 'Latent2', 'Latent3', 'Latent4', 'Latent5', 'Latent6',\n",
      "       'Latent7', 'Latent8', 'Latent9', 'Latent10', 'Latent11', 'Latent12'],\n",
      "      dtype='object')\n",
      "Index(['column', 'peak_amplitudes', 'peak_frequencies', 'area_under_curve',\n",
      "       'num_peaks'],\n",
      "      dtype='object')\n",
      "Column 'Freq_Hz' not found in the DataFrame.\n"
     ]
    },
    {
     "ename": "ValueError",
     "evalue": "setting an array element with a sequence.",
     "output_type": "error",
     "traceback": [
      "\u001b[0;31m---------------------------------------------------------------------------\u001b[0m",
      "\u001b[0;31mTypeError\u001b[0m                                 Traceback (most recent call last)",
      "\u001b[0;31mTypeError\u001b[0m: only length-1 arrays can be converted to Python scalars",
      "\nThe above exception was the direct cause of the following exception:\n",
      "\u001b[0;31mValueError\u001b[0m                                Traceback (most recent call last)",
      "Cell \u001b[0;32mIn[333], line 12\u001b[0m\n\u001b[1;32m      8\u001b[0m \u001b[38;5;28;01melse\u001b[39;00m:\n\u001b[1;32m      9\u001b[0m     \u001b[38;5;28mprint\u001b[39m(\u001b[38;5;124m\"\u001b[39m\u001b[38;5;124mColumn \u001b[39m\u001b[38;5;124m'\u001b[39m\u001b[38;5;124mFreq_Hz\u001b[39m\u001b[38;5;124m'\u001b[39m\u001b[38;5;124m not found in the DataFrame.\u001b[39m\u001b[38;5;124m\"\u001b[39m)\n\u001b[0;32m---> 12\u001b[0m plt\u001b[38;5;241m.\u001b[39mplot(seen_features_dfs[\u001b[38;5;124m'\u001b[39m\u001b[38;5;124mdf_0\u001b[39m\u001b[38;5;124m'\u001b[39m][\u001b[38;5;124m'\u001b[39m\u001b[38;5;124mpeak_amplitudes\u001b[39m\u001b[38;5;124m'\u001b[39m], latent_features_dfs[\u001b[38;5;124m'\u001b[39m\u001b[38;5;124mdf_0\u001b[39m\u001b[38;5;124m'\u001b[39m][\u001b[38;5;124m'\u001b[39m\u001b[38;5;124mLatent1\u001b[39m\u001b[38;5;124m'\u001b[39m])\n\u001b[1;32m     13\u001b[0m plt\u001b[38;5;241m.\u001b[39mxlabel(\u001b[38;5;124m'\u001b[39m\u001b[38;5;124mPeak Amplitudes\u001b[39m\u001b[38;5;124m'\u001b[39m)\n\u001b[1;32m     14\u001b[0m plt\u001b[38;5;241m.\u001b[39mylabel(\u001b[38;5;124m'\u001b[39m\u001b[38;5;124mLatent1\u001b[39m\u001b[38;5;124m'\u001b[39m)\n",
      "File \u001b[0;32m/opt/anaconda3/envs/aiml-2/lib/python3.11/site-packages/matplotlib/pyplot.py:3794\u001b[0m, in \u001b[0;36mplot\u001b[0;34m(scalex, scaley, data, *args, **kwargs)\u001b[0m\n\u001b[1;32m   3786\u001b[0m \u001b[38;5;129m@_copy_docstring_and_deprecators\u001b[39m(Axes\u001b[38;5;241m.\u001b[39mplot)\n\u001b[1;32m   3787\u001b[0m \u001b[38;5;28;01mdef\u001b[39;00m \u001b[38;5;21mplot\u001b[39m(\n\u001b[1;32m   3788\u001b[0m     \u001b[38;5;241m*\u001b[39margs: \u001b[38;5;28mfloat\u001b[39m \u001b[38;5;241m|\u001b[39m ArrayLike \u001b[38;5;241m|\u001b[39m \u001b[38;5;28mstr\u001b[39m,\n\u001b[0;32m   (...)\u001b[0m\n\u001b[1;32m   3792\u001b[0m     \u001b[38;5;241m*\u001b[39m\u001b[38;5;241m*\u001b[39mkwargs,\n\u001b[1;32m   3793\u001b[0m ) \u001b[38;5;241m-\u001b[39m\u001b[38;5;241m>\u001b[39m \u001b[38;5;28mlist\u001b[39m[Line2D]:\n\u001b[0;32m-> 3794\u001b[0m     \u001b[38;5;28;01mreturn\u001b[39;00m gca()\u001b[38;5;241m.\u001b[39mplot(\n\u001b[1;32m   3795\u001b[0m         \u001b[38;5;241m*\u001b[39margs,\n\u001b[1;32m   3796\u001b[0m         scalex\u001b[38;5;241m=\u001b[39mscalex,\n\u001b[1;32m   3797\u001b[0m         scaley\u001b[38;5;241m=\u001b[39mscaley,\n\u001b[1;32m   3798\u001b[0m         \u001b[38;5;241m*\u001b[39m\u001b[38;5;241m*\u001b[39m({\u001b[38;5;124m\"\u001b[39m\u001b[38;5;124mdata\u001b[39m\u001b[38;5;124m\"\u001b[39m: data} \u001b[38;5;28;01mif\u001b[39;00m data \u001b[38;5;129;01mis\u001b[39;00m \u001b[38;5;129;01mnot\u001b[39;00m \u001b[38;5;28;01mNone\u001b[39;00m \u001b[38;5;28;01melse\u001b[39;00m {}),\n\u001b[1;32m   3799\u001b[0m         \u001b[38;5;241m*\u001b[39m\u001b[38;5;241m*\u001b[39mkwargs,\n\u001b[1;32m   3800\u001b[0m     )\n",
      "File \u001b[0;32m/opt/anaconda3/envs/aiml-2/lib/python3.11/site-packages/matplotlib/axes/_axes.py:1781\u001b[0m, in \u001b[0;36mAxes.plot\u001b[0;34m(self, scalex, scaley, data, *args, **kwargs)\u001b[0m\n\u001b[1;32m   1779\u001b[0m lines \u001b[38;5;241m=\u001b[39m [\u001b[38;5;241m*\u001b[39m\u001b[38;5;28mself\u001b[39m\u001b[38;5;241m.\u001b[39m_get_lines(\u001b[38;5;28mself\u001b[39m, \u001b[38;5;241m*\u001b[39margs, data\u001b[38;5;241m=\u001b[39mdata, \u001b[38;5;241m*\u001b[39m\u001b[38;5;241m*\u001b[39mkwargs)]\n\u001b[1;32m   1780\u001b[0m \u001b[38;5;28;01mfor\u001b[39;00m line \u001b[38;5;129;01min\u001b[39;00m lines:\n\u001b[0;32m-> 1781\u001b[0m     \u001b[38;5;28mself\u001b[39m\u001b[38;5;241m.\u001b[39madd_line(line)\n\u001b[1;32m   1782\u001b[0m \u001b[38;5;28;01mif\u001b[39;00m scalex:\n\u001b[1;32m   1783\u001b[0m     \u001b[38;5;28mself\u001b[39m\u001b[38;5;241m.\u001b[39m_request_autoscale_view(\u001b[38;5;124m\"\u001b[39m\u001b[38;5;124mx\u001b[39m\u001b[38;5;124m\"\u001b[39m)\n",
      "File \u001b[0;32m/opt/anaconda3/envs/aiml-2/lib/python3.11/site-packages/matplotlib/axes/_base.py:2339\u001b[0m, in \u001b[0;36m_AxesBase.add_line\u001b[0;34m(self, line)\u001b[0m\n\u001b[1;32m   2336\u001b[0m \u001b[38;5;28;01mif\u001b[39;00m line\u001b[38;5;241m.\u001b[39mget_clip_path() \u001b[38;5;129;01mis\u001b[39;00m \u001b[38;5;28;01mNone\u001b[39;00m:\n\u001b[1;32m   2337\u001b[0m     line\u001b[38;5;241m.\u001b[39mset_clip_path(\u001b[38;5;28mself\u001b[39m\u001b[38;5;241m.\u001b[39mpatch)\n\u001b[0;32m-> 2339\u001b[0m \u001b[38;5;28mself\u001b[39m\u001b[38;5;241m.\u001b[39m_update_line_limits(line)\n\u001b[1;32m   2340\u001b[0m \u001b[38;5;28;01mif\u001b[39;00m \u001b[38;5;129;01mnot\u001b[39;00m line\u001b[38;5;241m.\u001b[39mget_label():\n\u001b[1;32m   2341\u001b[0m     line\u001b[38;5;241m.\u001b[39mset_label(\u001b[38;5;124mf\u001b[39m\u001b[38;5;124m'\u001b[39m\u001b[38;5;124m_child\u001b[39m\u001b[38;5;132;01m{\u001b[39;00m\u001b[38;5;28mlen\u001b[39m(\u001b[38;5;28mself\u001b[39m\u001b[38;5;241m.\u001b[39m_children)\u001b[38;5;132;01m}\u001b[39;00m\u001b[38;5;124m'\u001b[39m)\n",
      "File \u001b[0;32m/opt/anaconda3/envs/aiml-2/lib/python3.11/site-packages/matplotlib/axes/_base.py:2362\u001b[0m, in \u001b[0;36m_AxesBase._update_line_limits\u001b[0;34m(self, line)\u001b[0m\n\u001b[1;32m   2358\u001b[0m \u001b[38;5;28;01mdef\u001b[39;00m \u001b[38;5;21m_update_line_limits\u001b[39m(\u001b[38;5;28mself\u001b[39m, line):\n\u001b[1;32m   2359\u001b[0m \u001b[38;5;250m    \u001b[39m\u001b[38;5;124;03m\"\"\"\u001b[39;00m\n\u001b[1;32m   2360\u001b[0m \u001b[38;5;124;03m    Figures out the data limit of the given line, updating self.dataLim.\u001b[39;00m\n\u001b[1;32m   2361\u001b[0m \u001b[38;5;124;03m    \"\"\"\u001b[39;00m\n\u001b[0;32m-> 2362\u001b[0m     path \u001b[38;5;241m=\u001b[39m line\u001b[38;5;241m.\u001b[39mget_path()\n\u001b[1;32m   2363\u001b[0m     \u001b[38;5;28;01mif\u001b[39;00m path\u001b[38;5;241m.\u001b[39mvertices\u001b[38;5;241m.\u001b[39msize \u001b[38;5;241m==\u001b[39m \u001b[38;5;241m0\u001b[39m:\n\u001b[1;32m   2364\u001b[0m         \u001b[38;5;28;01mreturn\u001b[39;00m\n",
      "File \u001b[0;32m/opt/anaconda3/envs/aiml-2/lib/python3.11/site-packages/matplotlib/lines.py:1037\u001b[0m, in \u001b[0;36mLine2D.get_path\u001b[0;34m(self)\u001b[0m\n\u001b[1;32m   1035\u001b[0m \u001b[38;5;250m\u001b[39m\u001b[38;5;124;03m\"\"\"Return the `~matplotlib.path.Path` associated with this line.\"\"\"\u001b[39;00m\n\u001b[1;32m   1036\u001b[0m \u001b[38;5;28;01mif\u001b[39;00m \u001b[38;5;28mself\u001b[39m\u001b[38;5;241m.\u001b[39m_invalidy \u001b[38;5;129;01mor\u001b[39;00m \u001b[38;5;28mself\u001b[39m\u001b[38;5;241m.\u001b[39m_invalidx:\n\u001b[0;32m-> 1037\u001b[0m     \u001b[38;5;28mself\u001b[39m\u001b[38;5;241m.\u001b[39mrecache()\n\u001b[1;32m   1038\u001b[0m \u001b[38;5;28;01mreturn\u001b[39;00m \u001b[38;5;28mself\u001b[39m\u001b[38;5;241m.\u001b[39m_path\n",
      "File \u001b[0;32m/opt/anaconda3/envs/aiml-2/lib/python3.11/site-packages/matplotlib/lines.py:674\u001b[0m, in \u001b[0;36mLine2D.recache\u001b[0;34m(self, always)\u001b[0m\n\u001b[1;32m    672\u001b[0m \u001b[38;5;28;01mif\u001b[39;00m always \u001b[38;5;129;01mor\u001b[39;00m \u001b[38;5;28mself\u001b[39m\u001b[38;5;241m.\u001b[39m_invalidx:\n\u001b[1;32m    673\u001b[0m     xconv \u001b[38;5;241m=\u001b[39m \u001b[38;5;28mself\u001b[39m\u001b[38;5;241m.\u001b[39mconvert_xunits(\u001b[38;5;28mself\u001b[39m\u001b[38;5;241m.\u001b[39m_xorig)\n\u001b[0;32m--> 674\u001b[0m     x \u001b[38;5;241m=\u001b[39m _to_unmasked_float_array(xconv)\u001b[38;5;241m.\u001b[39mravel()\n\u001b[1;32m    675\u001b[0m \u001b[38;5;28;01melse\u001b[39;00m:\n\u001b[1;32m    676\u001b[0m     x \u001b[38;5;241m=\u001b[39m \u001b[38;5;28mself\u001b[39m\u001b[38;5;241m.\u001b[39m_x\n",
      "File \u001b[0;32m/opt/anaconda3/envs/aiml-2/lib/python3.11/site-packages/matplotlib/cbook.py:1398\u001b[0m, in \u001b[0;36m_to_unmasked_float_array\u001b[0;34m(x)\u001b[0m\n\u001b[1;32m   1396\u001b[0m     \u001b[38;5;28;01mreturn\u001b[39;00m np\u001b[38;5;241m.\u001b[39mma\u001b[38;5;241m.\u001b[39masarray(x, \u001b[38;5;28mfloat\u001b[39m)\u001b[38;5;241m.\u001b[39mfilled(np\u001b[38;5;241m.\u001b[39mnan)\n\u001b[1;32m   1397\u001b[0m \u001b[38;5;28;01melse\u001b[39;00m:\n\u001b[0;32m-> 1398\u001b[0m     \u001b[38;5;28;01mreturn\u001b[39;00m np\u001b[38;5;241m.\u001b[39masarray(x, \u001b[38;5;28mfloat\u001b[39m)\n",
      "\u001b[0;31mValueError\u001b[0m: setting an array element with a sequence."
     ]
    },
    {
     "data": {
      "image/png": "[encoded data removed]",
      "text/plain": [
       "<Figure size 640x480 with 1 Axes>"
      ]
     },
     "metadata": {},
     "output_type": "display_data"
    }
   ],
   "source": [
    "# Check the columns of the DataFrame\n",
    "print(latent_features_dfs['df_0'].columns)\n",
    "print(seen_features_dfs['df_0'].columns)\n",
    "\n",
    "# If the column exists, drop it\n",
    "if 'Freq_Hz' in latent_features_dfs['df_0'].columns:\n",
    "    latent_ex = latent_features_dfs['df_0'].drop(['Freq_Hz'])\n",
    "else:\n",
    "    print(\"Column 'Freq_Hz' not found in the DataFrame.\")\n",
    "\n",
    "\n",
    "plt.plot(seen_features_dfs['df_0']['peak_amplitudes'], latent_features_dfs['df_0']['Latent1'])\n",
    "plt.xlabel('Peak Amplitudes')\n",
    "plt.ylabel('Latent1')\n",
    "plt.title('Peak Amplitudes vs. Latent1')\n",
    "plt.show()"
   ]
  },
  {
   "cell_type": "code",
   "execution_count": null,
   "metadata": {},
   "outputs": [
    {
     "name": "stdout",
     "output_type": "stream",
     "text": [
      "Series([], Name: peak_amplitudes, dtype: float64)\n"
     ]
    }
   ],
   "source": [
    "print(seen_features_dfs['df_0']['peak_amplitudes'])"
   ]
  },
  {
   "cell_type": "code",
   "execution_count": null,
   "metadata": {},
   "outputs": [],
   "source": [
    "# Simple Linear Regression Model (Consider Ridge or Lasso Regression for overfitting)\n",
    "pipeline = Pipeline([\n",
    "    ('scale', MinMaxScaler()),\n",
    "    ('linear', LinearRegression())\n",
    "])\n",
    "\n",
    "#pipeline.fit(x_train, y_test)\n",
    "#predictions = pipeline.predict(x_train)\n",
    "\n",
    "#error = root_mean_squared_error(y_train, predictions)\n",
    "\n",
    "#plt.plot(y_train, predictions, color = 'green')"
   ]
  },
  {
   "cell_type": "code",
   "execution_count": null,
   "metadata": {},
   "outputs": [],
   "source": [
    "# Simple Regression Model (Consider Ridge or Lasso Regression for overfitting)\n",
    "pipeline = Pipeline([\n",
    "    ('scale', MinMaxScaler()),\n",
    "    ('polynomial', PolynomialFeatures(degree = 3, include_bias = True))\n",
    "])\n",
    "\n",
    "#pipeline.fit(x_train, y_test)\n",
    "#predictions = pipeline.predict(x_train)\n",
    "\n",
    "#error = root_mean_squared_error(y_train, predictions)\n",
    "\n",
    "#plt.plot(y_train, predictions, color = 'purple')"
   ]
  }
 ],
 "metadata": {
  "kernelspec": {
   "display_name": "aiml-2",
   "language": "python",
   "name": "python3"
  },
  "language_info": {
   "codemirror_mode": {
    "name": "ipython",
    "version": 3
   },
   "file_extension": ".py",
   "mimetype": "text/x-python",
   "name": "python",
   "nbconvert_exporter": "python",
   "pygments_lexer": "ipython3",
   "version": "3.11.9"
  }
 },
 "nbformat": 4,
 "nbformat_minor": 2
}
